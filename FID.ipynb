{
 "cells": [
  {
   "cell_type": "code",
   "execution_count": 1,
   "metadata": {},
   "outputs": [],
   "source": [
    "import os\n",
    "import torch\n",
    "import torchvision\n",
    "import torchvision.transforms as transforms\n",
    "import torchvision.transforms.functional as F\n",
    "from PIL import Image\n",
    "from torch.utils.data import DataLoader, Dataset\n",
    "import torch_fidelity\n",
    "from torchmetrics.image.fid import FrechetInceptionDistance"
   ]
  },
  {
   "cell_type": "code",
   "execution_count": 2,
   "metadata": {},
   "outputs": [],
   "source": [
    "def save_cifar10_test_images(\n",
    "    root_dir=\"cifar10_test_images\",\n",
    "    resize_to=None\n",
    "):\n",
    "    \"\"\"\n",
    "    Downloads CIFAR-10 test set, saves each image to a separate PNG in `root_dir`.\n",
    "    Optionally resizes images before saving.\n",
    "    \"\"\"\n",
    "    os.makedirs(root_dir, exist_ok=True)\n",
    "\n",
    "    base_transforms = []\n",
    "    if resize_to is not None:\n",
    "        base_transforms.append(transforms.Resize((resize_to, resize_to)))\n",
    "    base_transforms.append(transforms.ToTensor())\n",
    "    transform = transforms.Compose(base_transforms)\n",
    "\n",
    "    cifar10_test = torchvision.datasets.CIFAR10(\n",
    "        root=\"./data\",\n",
    "        train=False,\n",
    "        download=True,\n",
    "        transform=transform\n",
    "    )\n",
    "    print(\"CIFAR-10 test set downloaded.\")\n",
    "\n",
    "    # Save each image to disk\n",
    "    for idx, (img_tensor, label) in enumerate(cifar10_test):\n",
    "        # Convert from tensor back to PIL for saving\n",
    "        img_pil = F.to_pil_image(img_tensor)\n",
    "\n",
    "        # Build a filename like \"img_00000_label_1.png\"\n",
    "        # or just \"img_00000.png\" if you prefer\n",
    "        filename = f\"img_{idx:05d}_label_{label}.png\"\n",
    "        filepath = os.path.join(root_dir, filename)\n",
    "        img_pil.save(filepath)\n",
    "\n",
    "        if idx % 1000 == 0:\n",
    "            print(f\"Saved {idx} images...\")\n",
    "\n",
    "    print(\"All CIFAR-10 test images saved!\")\n"
   ]
  },
  {
   "cell_type": "code",
   "execution_count": 3,
   "metadata": {},
   "outputs": [],
   "source": [
    "# save_cifar10_test_images(root_dir=\"cifar10_test_images\", resize_to=32)"
   ]
  },
  {
   "cell_type": "code",
   "execution_count": 4,
   "metadata": {},
   "outputs": [],
   "source": [
    "class GeneratedDataset(Dataset):\n",
    "    \"\"\"\n",
    "    A simple Dataset to load generated images from a folder.\n",
    "    \"\"\"\n",
    "    def __init__(self, folder, transform=None):\n",
    "        super().__init__()\n",
    "        self.folder = folder\n",
    "        self.img_files = sorted(\n",
    "            [f for f in os.listdir(folder) if f.lower().endswith(('.png', '.jpg', '.jpeg'))]\n",
    "        )\n",
    "        self.transform = transform\n",
    "\n",
    "    def __len__(self):\n",
    "        return len(self.img_files)\n",
    "\n",
    "    def __getitem__(self, idx):\n",
    "        img_path = os.path.join(self.folder, self.img_files[idx])\n",
    "        img = Image.open(img_path).convert('RGB')\n",
    "        if self.transform is not None:\n",
    "            img = self.transform(img)\n",
    "        return img"
   ]
  },
  {
   "cell_type": "code",
   "execution_count": 5,
   "metadata": {},
   "outputs": [],
   "source": [
    "def compute_fid_for_cifar10_test(gen_folder, batch_size):\n",
    "\n",
    "    transform = transforms.Compose([\n",
    "        transforms.Resize((32, 32)), \n",
    "        transforms.ToTensor(),\n",
    "    ])\n",
    "\n",
    "    real_dataset = torchvision.datasets.CIFAR10(\n",
    "        root=\"./cifar10_test_images\",\n",
    "        train=False,\n",
    "        download=True,\n",
    "        transform=transform\n",
    "    )\n",
    "    real_loader = DataLoader(real_dataset, batch_size=batch_size, shuffle=False)\n",
    "\n",
    "    gen_dataset = GeneratedDataset(folder=gen_folder, transform=transform)\n",
    "    gen_loader = DataLoader(gen_dataset, batch_size=batch_size, shuffle=False)\n",
    "\n",
    "    if torch.cuda.is_available():\n",
    "        print(\"running on cuda\")\n",
    "    device = \"cuda\" if torch.cuda.is_available() else \"cpu\"\n",
    "    fid = FrechetInceptionDistance(feature=2048).to(device)\n",
    "    \n",
    "    for real_imgs, _ in real_loader:\n",
    "        real_imgs = (real_imgs * 255).to(torch.uint8)\n",
    "        real_imgs = real_imgs.to(device)\n",
    "        fid.update(real_imgs, real=True)\n",
    "    \n",
    "    for fake_imgs in gen_loader:\n",
    "        fake_imgs = (fake_imgs * 255).to(torch.uint8)\n",
    "        fake_imgs = fake_imgs.to(device)\n",
    "        fid.update(fake_imgs, real=False)\n",
    "    \n",
    "    score = fid.compute()\n",
    "    print(f\"FID score: {score.item():.4f}\")\n",
    "\n"
   ]
  },
  {
   "cell_type": "code",
   "execution_count": 6,
   "metadata": {},
   "outputs": [
    {
     "name": "stdout",
     "output_type": "stream",
     "text": [
      "Files already downloaded and verified\n",
      "running on cuda\n",
      "FID score: -0.0000\n"
     ]
    }
   ],
   "source": [
    "gen_folder_path = \"cifar10_test_images\"\n",
    "compute_fid_for_cifar10_test(\n",
    "    gen_folder=gen_folder_path, \n",
    "    batch_size=2048\n",
    ")\n",
    "\n",
    "# FID score = 0 means the output is exactly the same as testing dataset"
   ]
  },
  {
   "cell_type": "code",
   "execution_count": 7,
   "metadata": {},
   "outputs": [
    {
     "name": "stdout",
     "output_type": "stream",
     "text": [
      "Files already downloaded and verified\n",
      "running on cuda\n",
      "FID score: 458.4973\n"
     ]
    }
   ],
   "source": [
    "gen_folder_path = \"noise\"\n",
    "\n",
    "compute_fid_for_cifar10_test(\n",
    "    gen_folder=gen_folder_path,\n",
    "    batch_size=2048\n",
    ")\n",
    "\n",
    "# 458 for image gen from epoch 0-10, almost pure noise"
   ]
  },
  {
   "cell_type": "code",
   "execution_count": 8,
   "metadata": {},
   "outputs": [
    {
     "name": "stdout",
     "output_type": "stream",
     "text": [
      "Files already downloaded and verified\n",
      "running on cuda\n",
      "FID score: 61.7527\n"
     ]
    }
   ],
   "source": [
    "gen_folder_path = \"cifar10_samples\"\n",
    "\n",
    "compute_fid_for_cifar10_test(\n",
    "    gen_folder=gen_folder_path,\n",
    "    batch_size=2048\n",
    ")\n",
    "\n",
    "# 61 is an acceptable value - not good, not bad."
   ]
  },
  {
   "cell_type": "code",
   "execution_count": null,
   "metadata": {},
   "outputs": [],
   "source": []
  }
 ],
 "metadata": {
  "kernelspec": {
   "display_name": "Python 3 (ipykernel)",
   "language": "python",
   "name": "python3"
  },
  "language_info": {
   "codemirror_mode": {
    "name": "ipython",
    "version": 3
   },
   "file_extension": ".py",
   "mimetype": "text/x-python",
   "name": "python",
   "nbconvert_exporter": "python",
   "pygments_lexer": "ipython3",
   "version": "3.9.21"
  }
 },
 "nbformat": 4,
 "nbformat_minor": 4
}
