{
 "cells": [
  {
   "cell_type": "code",
   "execution_count": 1,
   "metadata": {},
   "outputs": [],
   "source": [
    "import torch\n",
    "import torchvision\n",
    "import os\n",
    "import torch.nn as nn\n",
    "from ddpm.diffusion_model import DiffusionModel\n",
    "\n",
    "import ddpm.config as _config\n",
    "import matplotlib.pyplot as plt\n",
    "from torchvision.utils import make_grid\n",
    "\n",
    "from ddpm.data import CIFAR10_CLASSES"
   ]
  },
  {
   "cell_type": "code",
   "execution_count": 2,
   "metadata": {},
   "outputs": [],
   "source": [
    "_config.DEBUG = False"
   ]
  },
  {
   "cell_type": "code",
   "execution_count": 3,
   "metadata": {},
   "outputs": [],
   "source": [
    "cpt_path = 'epoch_24.pth'\n",
    "device = torch.device(\"cuda\" if torch.cuda.is_available() else \"cpu\")"
   ]
  },
  {
   "cell_type": "code",
   "execution_count": null,
   "metadata": {},
   "outputs": [],
   "source": [
    "cpt = torch.load(cpt_path, map_location=device, weights_only=False)\n",
    "model = DiffusionModel(cpt['config'])\n",
    "model.load_state_dict(cpt['model'])\n",
    "model = nn.DataParallel(model).to(device)\n",
    "\n",
    "model.eval()\n",
    "print(\"model loaded\")"
   ]
  },
  {
   "cell_type": "markdown",
   "metadata": {},
   "source": [
    "# sample"
   ]
  },
  {
   "cell_type": "code",
   "execution_count": 5,
   "metadata": {},
   "outputs": [],
   "source": [
    "image_num = 2"
   ]
  },
  {
   "cell_type": "code",
   "execution_count": null,
   "metadata": {},
   "outputs": [],
   "source": [
    "save_dir = 'cifar10_samples'\n",
    "for label in range(10):\n",
    "    print(CIFAR10_CLASSES[label])\n",
    "    labels = torch.ones(image_num, dtype=torch.long, device=device) * label\n",
    "    samples = model.module.sample(shape=(image_num, 3, 32, 32), device=device, y=labels)\n",
    "\n",
    "    for sample in samples:\n",
    "        processed_sample = ((sample + 1) / 2).clip(0, 1)\n",
    "        # Save each image with a filename indicating class and image number\n",
    "        filename = f\"{save_dir}/{CIFAR10_CLASSES[label]}_{i}.png\"\n",
    "        \n",
    "        # Convert to CPU and save\n",
    "        torchvision.utils.save_image(processed_sample, filename)\n",
    "        print(f\"Saved {filename}\")"
   ]
  },
  {
   "cell_type": "markdown",
   "metadata": {},
   "source": [
    "# sample intermediate"
   ]
  },
  {
   "cell_type": "code",
   "execution_count": null,
   "metadata": {},
   "outputs": [],
   "source": [
    "labels = torch.ones(16, dtype=torch.long, device=device) * 1 # Automobile\n",
    "samples = model.module.sample_intermediate(shape=(16, 3, 32, 32), device=device, y=labels, save_every=200)\n",
    "\n",
    "for sample in samples:\n",
    "    grid = torchvision.utils.make_grid(sample, nrow=4)\n",
    "    plt.figure(figsize=(8, 8))\n",
    "    plt.imshow(grid.permute(1, 2, 0).cpu().numpy())\n",
    "    plt.axis('off')\n",
    "    plt.show()"
   ]
  }
 ],
 "metadata": {
  "kernelspec": {
   "display_name": "avocado",
   "language": "python",
   "name": "python3"
  },
  "language_info": {
   "codemirror_mode": {
    "name": "ipython",
    "version": 3
   },
   "file_extension": ".py",
   "mimetype": "text/x-python",
   "name": "python",
   "nbconvert_exporter": "python",
   "pygments_lexer": "ipython3",
   "version": "3.10.15"
  }
 },
 "nbformat": 4,
 "nbformat_minor": 2
}
