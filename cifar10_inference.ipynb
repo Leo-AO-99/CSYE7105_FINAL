{
 "cells": [
  {
   "cell_type": "code",
   "execution_count": 1,
   "metadata": {},
   "outputs": [],
   "source": [
    "import torch\n",
    "import torchvision\n",
    "import os\n",
    "import torch.nn as nn\n",
    "from ddpm.diffusion_model import DiffusionModel\n",
    "\n",
    "import ddpm.config as _config\n",
    "import matplotlib.pyplot as plt\n",
    "from torchvision.utils import make_grid\n",
    "\n",
    "from ddpm.data import CIFAR10_CLASSES"
   ]
  },
  {
   "cell_type": "code",
   "execution_count": 2,
   "metadata": {},
   "outputs": [],
   "source": [
    "_config.DEBUG = False"
   ]
  },
  {
   "cell_type": "markdown",
   "metadata": {},
   "source": [
    "cpt_path should be the path to the checkpoint file\n",
    "\n",
    "there is bug in torch.load, sometimes it can load successfully, sometimes it can't. Even we don't change anything,"
   ]
  },
  {
   "cell_type": "code",
   "execution_count": 3,
   "metadata": {},
   "outputs": [],
   "source": [
    "cpt_path = 'epoch_24.pth'\n",
    "device = torch.device(\"cuda\" if torch.cuda.is_available() else \"cpu\")"
   ]
  },
  {
   "cell_type": "code",
   "execution_count": null,
   "metadata": {},
   "outputs": [],
   "source": [
    "cpt = torch.load(cpt_path, map_location=device, weights_only=False)\n",
    "model = DiffusionModel(cpt['config'])\n",
    "model.load_state_dict(cpt['model'])\n",
    "model = nn.DataParallel(model).to(device)\n",
    "\n",
    "model.eval()\n",
    "print(\"model loaded\")"
   ]
  },
  {
   "cell_type": "markdown",
   "metadata": {},
   "source": [
    "# sample"
   ]
  },
  {
   "cell_type": "code",
   "execution_count": 5,
   "metadata": {},
   "outputs": [],
   "source": [
    "save_dir = 'cifar10_samples'"
   ]
  },
  {
   "cell_type": "markdown",
   "metadata": {},
   "source": [
    "sample image_num images each label"
   ]
  },
  {
   "cell_type": "code",
   "execution_count": null,
   "metadata": {},
   "outputs": [],
   "source": [
    "# image_num = 9\n",
    "# for label in range(10):\n",
    "#     print(CIFAR10_CLASSES[label])\n",
    "#     labels = torch.ones(image_num, dtype=torch.long, device=device) * label\n",
    "#     samples = model.module.sample(shape=(image_num, 3, 32, 32), device=device, y=labels)\n",
    "\n",
    "#     for i, sample in enumerate(samples):\n",
    "#         processed_sample = ((sample + 1) / 2).clip(0, 1)\n",
    "#         filename = f\"{save_dir}/{CIFAR10_CLASSES[label]}_{i}.png\"\n",
    "\n",
    "#         torchvision.utils.save_image(processed_sample, filename)\n",
    "#         print(f\"Saved {filename}\")"
   ]
  },
  {
   "cell_type": "markdown",
   "metadata": {},
   "source": [
    "many images with random labels in one image file"
   ]
  },
  {
   "cell_type": "code",
   "execution_count": null,
   "metadata": {},
   "outputs": [],
   "source": [
    "## mixed label\n",
    "\n",
    "# image_num = 20 * 36\n",
    "# import random\n",
    "\n",
    "# # Generate random labels between 0 and 9\n",
    "# labels = torch.tensor([random.randint(0, 9) for _ in range(image_num)], dtype=torch.long, device=device)\n",
    "\n",
    "# # Sample images from the model\n",
    "# samples = model.module.sample(shape=(image_num, 3, 32, 32), device=device, y=labels)\n",
    "# processed_samples = [((sample + 1) / 2).clip(0, 1) for sample in samples]\n",
    "\n",
    "# # Create a figure to hold the images\n",
    "# fig, axes = plt.subplots(20, 36, figsize=(36, 20))\n",
    "\n",
    "# for i, sample in enumerate(processed_samples):\n",
    "#     row = i // 36\n",
    "#     col = i % 36\n",
    "#     ax = axes[row, col]\n",
    "#     ax.imshow(sample.permute(1, 2, 0).cpu().numpy())\n",
    "#     ax.axis('off')\n",
    "\n",
    "# # Save the figure\n",
    "# plt.tight_layout()\n",
    "# plt.savefig(f'{save_dir}/random_label_samples.png')\n",
    "# plt.show()\n",
    "\n"
   ]
  },
  {
   "cell_type": "markdown",
   "metadata": {},
   "source": [
    "image_num images each label in one image file"
   ]
  },
  {
   "cell_type": "code",
   "execution_count": null,
   "metadata": {},
   "outputs": [],
   "source": [
    "## \n",
    "\n",
    "# image_num = 14\n",
    "# save_dir = 'cifar10_samples'\n",
    "# for label in range(10):\n",
    "#     print(CIFAR10_CLASSES[label])\n",
    "#     labels = torch.ones(image_num, dtype=torch.long, device=device) * label\n",
    "#     samples = model.module.sample(shape=(image_num, 3, 32, 32), device=device, y=labels)\n",
    "#     processed_samples = [((sample + 1) / 2).clip(0, 1) for sample in samples]\n",
    "    \n",
    "\n",
    "#     # Create a figure to hold the images\n",
    "#     fig, axes = plt.subplots(2, 7, figsize=(14, 4))\n",
    "    \n",
    "#     for i, sample in enumerate(processed_samples):\n",
    "#         row = i // 7\n",
    "#         col = i % 7\n",
    "#         ax = axes[row, col]\n",
    "#         ax.imshow(sample.permute(1, 2, 0).cpu().numpy())\n",
    "#         ax.axis('off')\n",
    "    \n",
    "#     # Save the figure\n",
    "#     plt.tight_layout()\n",
    "#     plt.savefig(f'{save_dir}/{CIFAR10_CLASSES[label]}_samples.png')\n",
    "#     plt.show()"
   ]
  },
  {
   "cell_type": "markdown",
   "metadata": {},
   "source": [
    "# denoising progress"
   ]
  },
  {
   "cell_type": "code",
   "execution_count": null,
   "metadata": {},
   "outputs": [],
   "source": [
    "save_steps = [i * 30 for i in range(20)] # steps you want to save\n",
    "labels = torch.ones(16, dtype=torch.long, device=device) * 1 # Automobile\n",
    "samples = model.module.sample_intermediate(shape=(16, 3, 32, 32), device=device, y=labels, save_steps=save_steps)\n",
    "\n",
    "processed_samples = [((sample + 1) / 2).clip(0, 1) for sample in samples]\n",
    "num_steps = len(processed_samples)\n",
    "num_samples = processed_samples[0].size(0)\n",
    "\n",
    "plt.figure(figsize=(num_steps * 2, num_samples * 2))\n",
    "\n",
    "for i in range(num_samples):\n",
    "    for j in range(num_steps):\n",
    "        plt.subplot(num_samples, num_steps, i * num_steps + j + 1)\n",
    "        plt.imshow(processed_samples[j][i].permute(1, 2, 0).cpu().numpy())\n",
    "        plt.axis('off')\n",
    "        # if i == 0:  # 只在第一行添加标题\n",
    "        #     plt.title(f'Step {save_steps[j]}')\n",
    "\n",
    "plt.tight_layout()\n",
    "plt.savefig('denoising_process.png')\n",
    "plt.show()"
   ]
  }
 ],
 "metadata": {
  "kernelspec": {
   "display_name": "avocado",
   "language": "python",
   "name": "python3"
  },
  "language_info": {
   "codemirror_mode": {
    "name": "ipython",
    "version": 3
   },
   "file_extension": ".py",
   "mimetype": "text/x-python",
   "name": "python",
   "nbconvert_exporter": "python",
   "pygments_lexer": "ipython3",
   "version": "3.10.15"
  }
 },
 "nbformat": 4,
 "nbformat_minor": 2
}
