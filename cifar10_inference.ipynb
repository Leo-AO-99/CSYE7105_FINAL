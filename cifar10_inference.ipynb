{
 "cells": [
  {
   "cell_type": "code",
   "execution_count": 1,
   "metadata": {},
   "outputs": [],
   "source": [
    "import torch\n",
    "import torchvision\n",
    "import os\n",
    "import torch.nn as nn\n",
    "from ddpm.diffusion_model import DiffusionModel\n",
    "\n",
    "import ddpm.config as _config\n",
    "import matplotlib.pyplot as plt\n",
    "from torchvision.utils import make_grid"
   ]
  },
  {
   "cell_type": "code",
   "execution_count": 2,
   "metadata": {},
   "outputs": [],
   "source": [
    "_config.DEBUG = False"
   ]
  },
  {
   "cell_type": "code",
   "execution_count": 3,
   "metadata": {},
   "outputs": [],
   "source": [
    "cpt_path = 'epoch_24.pth'\n",
    "device = torch.device(\"cuda\" if torch.cuda.is_available() else \"cpu\")"
   ]
  },
  {
   "cell_type": "code",
   "execution_count": null,
   "metadata": {},
   "outputs": [],
   "source": [
    "cpt = torch.load(cpt_path, map_location=device, weights_only=False)\n",
    "model = DiffusionModel(cpt['config'])\n",
    "model.load_state_dict(cpt['model'])\n",
    "model = nn.DataParallel(model).to(device)\n",
    "\n",
    "model.eval()\n",
    "print(\"model loaded\")"
   ]
  },
  {
   "cell_type": "code",
   "execution_count": 5,
   "metadata": {},
   "outputs": [],
   "source": [
    "image_num = 5"
   ]
  },
  {
   "cell_type": "code",
   "execution_count": null,
   "metadata": {},
   "outputs": [],
   "source": [
    "for label in range(10):\n",
    "    labels = torch.ones(image_num, dtype=torch.long, device=device) * label\n",
    "    samples = model.module.sample(shape=(image_num, 3, 32, 32), device=device, y=labels)\n",
    "    # Process all samples\n",
    "    processed_samples = [((sample + 1) / 2).clip(0, 1) for sample in samples]\n",
    "\n",
    "    # Create a grid with 5 images per row\n",
    "    grid = make_grid(processed_samples, nrow=5)\n",
    "\n",
    "    # Display the grid\n",
    "    plt.title(f\"Label: {label}\")\n",
    "    plt.figure(figsize=(15, 3 * (len(processed_samples) // 5 + 1)))\n",
    "    plt.imshow(grid.permute(1, 2, 0).cpu())\n",
    "    plt.axis('off')\n",
    "    plt.show()\n",
    "    "
   ]
  },
  {
   "cell_type": "code",
   "execution_count": 6,
   "metadata": {},
   "outputs": [],
   "source": []
  },
  {
   "cell_type": "code",
   "execution_count": 7,
   "metadata": {},
   "outputs": [],
   "source": []
  },
  {
   "cell_type": "code",
   "execution_count": null,
   "metadata": {},
   "outputs": [],
   "source": [
    "\n",
    "\n"
   ]
  }
 ],
 "metadata": {
  "kernelspec": {
   "display_name": "avocado",
   "language": "python",
   "name": "python3"
  },
  "language_info": {
   "codemirror_mode": {
    "name": "ipython",
    "version": 3
   },
   "file_extension": ".py",
   "mimetype": "text/x-python",
   "name": "python",
   "nbconvert_exporter": "python",
   "pygments_lexer": "ipython3",
   "version": "3.10.15"
  }
 },
 "nbformat": 4,
 "nbformat_minor": 2
}
