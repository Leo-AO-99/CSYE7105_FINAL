{
 "cells": [
  {
   "cell_type": "code",
   "execution_count": null,
   "metadata": {},
   "outputs": [],
   "source": [
    "import os\n",
    "import torch\n",
    "import torch.optim as optim\n",
    "import torchvision\n",
    "from tqdm import tqdm\n",
    "import sys\n",
    "import time\n",
    "import matplotlib.pyplot as plt\n",
    "\n",
    "from ddpm import config as _config\n",
    "from ddpm.config import cifar10_config\n",
    "from ddpm.data import get_cifar10_dataloaders\n",
    "from ddpm.diffusion_model import DiffusionModel"
   ]
  },
  {
   "cell_type": "code",
   "execution_count": null,
   "metadata": {},
   "outputs": [],
   "source": [
    "_config.DEBUG = False\n",
    "device = torch.device(\"cuda\" if torch.cuda.is_available() else \"cpu\")\n",
    "print(\"System info: \")\n",
    "print(\"Device:\", device)\n",
    "print(\"Device count\", torch.cuda.device_count())\n",
    "print(\"GPU Device:\", torch.cuda.get_device_name(0))\n",
    "print(\"GPU RAM:\", f\"{(torch.cuda.get_device_properties(0).total_memory / 1e9).__round__(2)} GB\")\n",
    "\n",
    "cifar10_config.res_net_config.initial_pad = 0\n",
    "batch_size = cifar10_config.batch_size\n",
    "\n",
    "# max_epochs = 500\n",
    "max_epochs = 5\n",
    "\n",
    "learning_rate = 1e-4"
   ]
  },
  {
   "cell_type": "code",
   "execution_count": null,
   "metadata": {},
   "outputs": [],
   "source": [
    "train_loader, test_loader = get_cifar10_dataloaders(batch_size=batch_size)"
   ]
  },
  {
   "cell_type": "code",
   "execution_count": null,
   "metadata": {},
   "outputs": [],
   "source": [
    "model = DiffusionModel(cifar10_config).to(device)\n",
    "\n",
    "# Create an EMA model (exact copy of the original model)\n",
    "model_ema = DiffusionModel(cifar10_config).to(device)\n",
    "model_ema.load_state_dict(model.state_dict())\n",
    "model_ema.eval()\n",
    "\n",
    "# Utility function to update EMA weights\n",
    "def update_ema(model, ema_model, alpha=0.9999):\n",
    "    \"\"\"EMA update for each parameter.\"\"\"\n",
    "    with torch.no_grad():\n",
    "        for p, p_ema in zip(model.parameters(), ema_model.parameters()):\n",
    "            p_ema.data = alpha * p_ema.data + (1 - alpha) * p.data\n"
   ]
  },
  {
   "cell_type": "code",
   "execution_count": null,
   "metadata": {},
   "outputs": [],
   "source": [
    "optimizer = optim.Adam(model.parameters(), lr=learning_rate)\n",
    "\n",
    "# CosineAnnealingLR will decay the LR smoothly over max_epochs\n",
    "scheduler = optim.lr_scheduler.CosineAnnealingLR(optimizer, T_max=max_epochs)"
   ]
  },
  {
   "cell_type": "code",
   "execution_count": null,
   "metadata": {},
   "outputs": [],
   "source": [
    "for epoch in range(max_epochs):\n",
    "    t0 = time.time()\n",
    "    model.train()\n",
    "    batch_progress = tqdm(train_loader, desc=f\"Epoch {epoch}\", leave=True)\n",
    "\n",
    "    for batch_idx, (images, labels) in enumerate(batch_progress):\n",
    "        images = images.to(device)\n",
    "        labels = labels.to(device)\n",
    "\n",
    "        loss = model(images, labels)\n",
    "        optimizer.zero_grad()\n",
    "        loss.backward()\n",
    "        optimizer.step()\n",
    "        update_ema(model, model_ema)\n",
    "        \n",
    "        batch_progress.set_postfix(loss=loss.item())\n",
    "        sys.stdout.flush()\n",
    "        \n",
    "    scheduler.step()\n",
    "\n",
    "    current_lr = scheduler.get_last_lr()[0]\n",
    "    tqdm.write(f\"Epoch {epoch}, loss={loss.item():.4f}, LR={current_lr}\")\n",
    "\n",
    "    model_ema.eval()"
   ]
  }
 ],
 "metadata": {
  "kernelspec": {
   "display_name": "avocado",
   "language": "python",
   "name": "python3"
  },
  "language_info": {
   "name": "python",
   "version": "3.10.15"
  }
 },
 "nbformat": 4,
 "nbformat_minor": 2
}
