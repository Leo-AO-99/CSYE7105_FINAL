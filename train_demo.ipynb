{
 "cells": [
  {
   "cell_type": "code",
   "execution_count": 26,
   "metadata": {},
   "outputs": [],
   "source": [
    "import torch\n",
    "from tqdm import tqdm\n",
    "import sys\n",
    "import torch.optim as optim\n",
    "from ddpm.config import cifar10_config\n",
    "from ddpm.data import get_cifar10_dataloaders\n",
    "from ddpm.diffusion_model import DiffusionModel"
   ]
  },
  {
   "cell_type": "code",
   "execution_count": 27,
   "metadata": {},
   "outputs": [],
   "source": [
    "from ddpm import config as _config\n",
    "_config.DEBUG = False"
   ]
  },
  {
   "cell_type": "code",
   "execution_count": 28,
   "metadata": {},
   "outputs": [
    {
     "data": {
      "text/plain": [
       "device(type='cuda')"
      ]
     },
     "execution_count": 28,
     "metadata": {},
     "output_type": "execute_result"
    }
   ],
   "source": [
    "device = torch.device(\"cuda\" if torch.cuda.is_available() else \"cpu\")\n",
    "device"
   ]
  },
  {
   "cell_type": "code",
   "execution_count": 29,
   "metadata": {},
   "outputs": [],
   "source": [
    "cifar10_config.res_net_config.initial_pad = 0"
   ]
  },
  {
   "cell_type": "code",
   "execution_count": 30,
   "metadata": {},
   "outputs": [],
   "source": [
    "train_loader, test_loader = get_cifar10_dataloaders(\n",
    "    batch_size=cifar10_config.batch_size, \n",
    ")"
   ]
  },
  {
   "cell_type": "code",
   "execution_count": 31,
   "metadata": {},
   "outputs": [],
   "source": [
    "model = DiffusionModel(cifar10_config).to(device)"
   ]
  },
  {
   "cell_type": "code",
   "execution_count": 32,
   "metadata": {},
   "outputs": [],
   "source": [
    "optimizer = optim.Adam(model.parameters(), lr=1e-4)"
   ]
  },
  {
   "cell_type": "code",
   "execution_count": null,
   "metadata": {},
   "outputs": [
    {
     "name": "stderr",
     "output_type": "stream",
     "text": [
      "Training Progress:   0%|          | 0/10 [00:00<?, ?it/s]"
     ]
    },
    {
     "name": "stdout",
     "output_type": "stream",
     "text": [
      "[DEBUG] Epoch 0, first batch shapes: images=torch.Size([64, 3, 32, 32]), labels=torch.Size([64])\n"
     ]
    },
    {
     "name": "stderr",
     "output_type": "stream",
     "text": [
      "Training Progress:   0%|          | 0/10 [02:22<?, ?it/s]"
     ]
    },
    {
     "name": "stdout",
     "output_type": "stream",
     "text": [
      "Epoch 0, loss=0.0316\n"
     ]
    },
    {
     "name": "stderr",
     "output_type": "stream",
     "text": [
      "Training Progress:  10%|█         | 1/10 [02:37<23:40, 157.80s/it]"
     ]
    },
    {
     "name": "stdout",
     "output_type": "stream",
     "text": [
      "[DEBUG] Epoch 1, first batch shapes: images=torch.Size([64, 3, 32, 32]), labels=torch.Size([64])\n"
     ]
    },
    {
     "name": "stderr",
     "output_type": "stream",
     "text": [
      "Training Progress:  10%|█         | 1/10 [04:54<23:40, 157.80s/it]"
     ]
    },
    {
     "name": "stdout",
     "output_type": "stream",
     "text": [
      "Epoch 1, loss=0.0619\n"
     ]
    },
    {
     "name": "stderr",
     "output_type": "stream",
     "text": [
      "Training Progress:  20%|██        | 2/10 [05:10<20:40, 155.02s/it]"
     ]
    },
    {
     "name": "stdout",
     "output_type": "stream",
     "text": [
      "[DEBUG] Epoch 2, first batch shapes: images=torch.Size([64, 3, 32, 32]), labels=torch.Size([64])\n"
     ]
    },
    {
     "name": "stderr",
     "output_type": "stream",
     "text": [
      "Training Progress:  20%|██        | 2/10 [07:33<20:40, 155.02s/it]"
     ]
    },
    {
     "name": "stdout",
     "output_type": "stream",
     "text": [
      "Epoch 2, loss=0.0337\n"
     ]
    },
    {
     "name": "stderr",
     "output_type": "stream",
     "text": [
      "Training Progress:  30%|███       | 3/10 [07:49<18:15, 156.51s/it]"
     ]
    },
    {
     "name": "stdout",
     "output_type": "stream",
     "text": [
      "[DEBUG] Epoch 3, first batch shapes: images=torch.Size([64, 3, 32, 32]), labels=torch.Size([64])\n"
     ]
    },
    {
     "name": "stderr",
     "output_type": "stream",
     "text": [
      "Training Progress:  30%|███       | 3/10 [10:06<18:15, 156.51s/it]"
     ]
    },
    {
     "name": "stdout",
     "output_type": "stream",
     "text": [
      "Epoch 3, loss=0.0254\n"
     ]
    },
    {
     "name": "stderr",
     "output_type": "stream",
     "text": [
      "Training Progress:  40%|████      | 4/10 [10:21<15:30, 155.00s/it]"
     ]
    },
    {
     "name": "stdout",
     "output_type": "stream",
     "text": [
      "[DEBUG] Epoch 4, first batch shapes: images=torch.Size([64, 3, 32, 32]), labels=torch.Size([64])\n"
     ]
    },
    {
     "name": "stderr",
     "output_type": "stream",
     "text": [
      "Training Progress:  40%|████      | 4/10 [12:39<15:30, 155.00s/it]"
     ]
    },
    {
     "name": "stdout",
     "output_type": "stream",
     "text": [
      "Epoch 4, loss=0.0274\n"
     ]
    },
    {
     "name": "stderr",
     "output_type": "stream",
     "text": [
      "Training Progress:  50%|█████     | 5/10 [12:54<12:51, 154.28s/it]"
     ]
    },
    {
     "name": "stdout",
     "output_type": "stream",
     "text": [
      "[DEBUG] Epoch 5, first batch shapes: images=torch.Size([64, 3, 32, 32]), labels=torch.Size([64])\n"
     ]
    },
    {
     "name": "stderr",
     "output_type": "stream",
     "text": [
      "Training Progress:  50%|█████     | 5/10 [15:12<12:51, 154.28s/it]"
     ]
    },
    {
     "name": "stdout",
     "output_type": "stream",
     "text": [
      "Epoch 5, loss=0.0147\n"
     ]
    },
    {
     "name": "stderr",
     "output_type": "stream",
     "text": [
      "Training Progress:  60%|██████    | 6/10 [15:29<10:17, 154.39s/it]"
     ]
    },
    {
     "name": "stdout",
     "output_type": "stream",
     "text": [
      "[DEBUG] Epoch 6, first batch shapes: images=torch.Size([64, 3, 32, 32]), labels=torch.Size([64])\n"
     ]
    },
    {
     "name": "stderr",
     "output_type": "stream",
     "text": [
      "Training Progress:  60%|██████    | 6/10 [17:48<10:17, 154.39s/it]"
     ]
    },
    {
     "name": "stdout",
     "output_type": "stream",
     "text": [
      "Epoch 6, loss=0.0449\n"
     ]
    },
    {
     "name": "stderr",
     "output_type": "stream",
     "text": [
      "Training Progress:  70%|███████   | 7/10 [18:04<07:43, 154.50s/it]"
     ]
    },
    {
     "name": "stdout",
     "output_type": "stream",
     "text": [
      "[DEBUG] Epoch 7, first batch shapes: images=torch.Size([64, 3, 32, 32]), labels=torch.Size([64])\n"
     ]
    },
    {
     "name": "stderr",
     "output_type": "stream",
     "text": [
      "Training Progress:  70%|███████   | 7/10 [20:21<07:43, 154.50s/it]"
     ]
    },
    {
     "name": "stdout",
     "output_type": "stream",
     "text": [
      "Epoch 7, loss=0.0400\n"
     ]
    },
    {
     "name": "stderr",
     "output_type": "stream",
     "text": [
      "Training Progress:  80%|████████  | 8/10 [20:37<05:08, 154.16s/it]"
     ]
    },
    {
     "name": "stdout",
     "output_type": "stream",
     "text": [
      "[DEBUG] Epoch 8, first batch shapes: images=torch.Size([64, 3, 32, 32]), labels=torch.Size([64])\n"
     ]
    },
    {
     "name": "stderr",
     "output_type": "stream",
     "text": [
      "Training Progress:  80%|████████  | 8/10 [22:54<05:08, 154.16s/it]"
     ]
    },
    {
     "name": "stdout",
     "output_type": "stream",
     "text": [
      "Epoch 8, loss=0.0682\n"
     ]
    },
    {
     "name": "stderr",
     "output_type": "stream",
     "text": [
      "Training Progress:  90%|█████████ | 9/10 [23:10<02:33, 153.74s/it]"
     ]
    },
    {
     "name": "stdout",
     "output_type": "stream",
     "text": [
      "[DEBUG] Epoch 9, first batch shapes: images=torch.Size([64, 3, 32, 32]), labels=torch.Size([64])\n"
     ]
    },
    {
     "name": "stderr",
     "output_type": "stream",
     "text": [
      "Training Progress:  90%|█████████ | 9/10 [25:27<02:33, 153.74s/it]"
     ]
    },
    {
     "name": "stdout",
     "output_type": "stream",
     "text": [
      "Epoch 9, loss=0.0181\n"
     ]
    },
    {
     "name": "stderr",
     "output_type": "stream",
     "text": [
      "Training Progress: 100%|██████████| 10/10 [25:43<00:00, 154.34s/it]\n"
     ]
    }
   ],
   "source": [
    "for epoch in tqdm(range(100), desc=\"Training Progress\", leave=True):\n",
    "    model.train()\n",
    "    batch_progress = tqdm(train_loader, desc=f\"Epoch {epoch}\", leave=False)\n",
    "\n",
    "    for batch_idx, (images, labels) in enumerate(batch_progress):\n",
    "        images = images.to(device)\n",
    "        labels = labels.to(device)\n",
    "\n",
    "        # -- Debug print the shapes, but only for the very first batch of each epoch\n",
    "        if batch_idx == 0:\n",
    "            print(f\"[DEBUG] Epoch {epoch}, first batch shapes: images={images.shape}, labels={labels.shape}\")\n",
    "\n",
    "        # Forward pass\n",
    "        try:\n",
    "            loss = model(images, labels)\n",
    "        except Exception as e:\n",
    "            print(f\"Error during model forward pass: {e}\")\n",
    "            continue\n",
    "\n",
    "        # Backprop\n",
    "        optimizer.zero_grad()\n",
    "        loss.backward()\n",
    "        optimizer.step()\n",
    "\n",
    "        batch_progress.set_postfix(loss=loss.item())\n",
    "        sys.stdout.flush()\n",
    "\n",
    "    # Print the final loss of the epoch\n",
    "    tqdm.write(f\"Epoch {epoch}, loss={loss.item():.4f}\")\n",
    "\n",
    "    # ---------------------\n",
    "    # Periodically sample\n",
    "    # ---------------------\n",
    "    model.eval()\n",
    "\n",
    "    # For example, let's randomly pick class labels for 16 samples:\n",
    "    # (If CIFAR-10, classes range from 0..9)\n",
    "    labels_for_sampling = torch.randint(\n",
    "        low=0, \n",
    "        high=10,             # or whatever num_classes you have\n",
    "        size=(16,),          # 16 samples\n",
    "        dtype=torch.long,\n",
    "        device=device\n",
    "    )\n",
    "\n",
    "    # Now we pass `y=labels_for_sampling` into model.sample\n",
    "    with torch.no_grad():\n",
    "        samples = model.sample(\n",
    "            shape=(16, 3, 32, 32),\n",
    "            device=device,\n",
    "            y=labels_for_sampling\n",
    "        )\n"
   ]
  },
  {
   "cell_type": "code",
   "execution_count": 34,
   "metadata": {},
   "outputs": [],
   "source": [
    "torch.save(model.state_dict(), \"diffusion_model.pth\")\n"
   ]
  },
  {
   "cell_type": "code",
   "execution_count": null,
   "metadata": {},
   "outputs": [],
   "source": [
    "model.eval()\n",
    "with torch.no_grad():\n",
    "    labels_for_sampling = torch.randint(0, 10, (16,), device=device)\n",
    "    samples = model.sample((16, 3, 32, 32), device=device, y=labels_for_sampling)\n",
    "\n",
    "samples = (samples.clamp(-1, 1) + 1) / 2  \n",
    "\n",
    "import torchvision\n",
    "torchvision.utils.save_image(samples, 'generated_samples.png', nrow=4)\n"
   ]
  }
 ],
 "metadata": {
  "kernelspec": {
   "display_name": "Python 3",
   "language": "python",
   "name": "python3"
  },
  "language_info": {
   "codemirror_mode": {
    "name": "ipython",
    "version": 3
   },
   "file_extension": ".py",
   "mimetype": "text/x-python",
   "name": "python",
   "nbconvert_exporter": "python",
   "pygments_lexer": "ipython3",
   "version": "3.10.0"
  }
 },
 "nbformat": 4,
 "nbformat_minor": 4
}
