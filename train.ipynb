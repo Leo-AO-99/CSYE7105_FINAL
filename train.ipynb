{
 "cells": [
  {
   "cell_type": "code",
   "execution_count": null,
   "metadata": {},
   "outputs": [],
   "source": [
    "import os\n",
    "import torch\n",
    "import torch.optim as optim\n",
    "import torchvision\n",
    "from tqdm import tqdm\n",
    "import sys\n",
    "\n",
    "from ddpm import config as _config\n",
    "from ddpm.config import cifar10_config\n",
    "from ddpm.data import get_cifar10_dataloaders\n",
    "from ddpm.diffusion_model import DiffusionModel"
   ]
  },
  {
   "cell_type": "code",
   "execution_count": null,
   "metadata": {},
   "outputs": [
    {
     "name": "stdout",
     "output_type": "stream",
     "text": [
      "Using device: cuda\n"
     ]
    }
   ],
   "source": [
    "_config.DEBUG = False\n",
    "device = torch.device(\"cuda\" if torch.cuda.is_available() else \"cpu\")\n",
    "print(\"Using device:\", device)\n",
    "\n",
    "cifar10_config.res_net_config.initial_pad = 0\n",
    "batch_size = cifar10_config.batch_size\n",
    "max_epochs = 100          # train for 100 epochs\n",
    "learning_rate = 1e-4"
   ]
  },
  {
   "cell_type": "code",
   "execution_count": null,
   "metadata": {},
   "outputs": [],
   "source": [
    "os.makedirs(\"samples\", exist_ok=True)"
   ]
  },
  {
   "cell_type": "code",
   "execution_count": null,
   "metadata": {},
   "outputs": [],
   "source": [
    "train_loader, test_loader = get_cifar10_dataloaders(batch_size=batch_size)\n",
    "\n"
   ]
  },
  {
   "cell_type": "code",
   "execution_count": null,
   "metadata": {},
   "outputs": [],
   "source": [
    "model = DiffusionModel(cifar10_config).to(device)\n",
    "\n",
    "# Create an EMA model (exact copy of the original model)\n",
    "model_ema = DiffusionModel(cifar10_config).to(device)\n",
    "model_ema.load_state_dict(model.state_dict())\n",
    "model_ema.eval()\n",
    "\n",
    "# Utility function to update EMA weights\n",
    "def update_ema(model, ema_model, alpha=0.9999):\n",
    "    \"\"\"EMA update for each parameter.\"\"\"\n",
    "    with torch.no_grad():\n",
    "        for p, p_ema in zip(model.parameters(), ema_model.parameters()):\n",
    "            p_ema.data = alpha * p_ema.data + (1 - alpha) * p.data\n"
   ]
  },
  {
   "cell_type": "code",
   "execution_count": null,
   "metadata": {},
   "outputs": [],
   "source": [
    "optimizer = optim.Adam(model.parameters(), lr=learning_rate)\n",
    "\n",
    "# CosineAnnealingLR will decay the LR smoothly over max_epochs\n",
    "scheduler = optim.lr_scheduler.CosineAnnealingLR(optimizer, T_max=max_epochs)\n"
   ]
  },
  {
   "cell_type": "code",
   "execution_count": null,
   "metadata": {},
   "outputs": [],
   "source": [
    "for epoch in range(max_epochs):\n",
    "    model.train()\n",
    "    batch_progress = tqdm(train_loader, desc=f\"Epoch {epoch}\", leave=False)\n",
    "\n",
    "    for batch_idx, (images, labels) in enumerate(batch_progress):\n",
    "        images = images.to(device)\n",
    "        labels = labels.to(device)\n",
    "\n",
    "        # Forward pass & loss\n",
    "        loss = model(images, labels)\n",
    "\n",
    "        # Backprop\n",
    "        optimizer.zero_grad()\n",
    "        loss.backward()\n",
    "        optimizer.step()\n",
    "        \n",
    "        # Update EMA after each optimizer step\n",
    "        update_ema(model, model_ema)\n",
    "\n",
    "        # Progress bar info\n",
    "        batch_progress.set_postfix(loss=loss.item())\n",
    "        sys.stdout.flush()\n",
    "\n",
    "    # Step the LR scheduler after each epoch\n",
    "    scheduler.step()\n",
    "\n",
    "    # Print the final loss & current LR\n",
    "    current_lr = scheduler.get_last_lr()[0]\n",
    "    tqdm.write(f\"Epoch {epoch}, loss={loss.item():.4f}, LR={current_lr}\")\n",
    "\n",
    "    # ----------------------------------\n",
    "    # Periodically sample with EMA model\n",
    "    # ----------------------------------\n",
    "    model_ema.eval()\n",
    "    with torch.no_grad():\n",
    "        # Let's pick random class labels for 16 samples\n",
    "        labels_for_sampling = torch.randint(low=0, high=10, size=(16,), device=device)\n",
    "        samples = model_ema.sample(\n",
    "            shape=(16, 3, 32, 32),\n",
    "            device=device,\n",
    "            y=labels_for_sampling\n",
    "        )\n",
    "\n",
    "    # Convert from [-1,1] to [0,1] if your model outputs are in [-1,1]\n",
    "    samples = (samples.clamp(-1, 1) + 1) / 2\n",
    "\n",
    "    # Save image grid for this epoch to \"samples/\" folder\n",
    "    img_name = f\"samples/generated_samples_epoch_{epoch}.png\"\n",
    "    torchvision.utils.save_image(samples, img_name, nrow=4)\n",
    "    # print(f\"[INFO] Saved samples to {img_name}\")"
   ]
  },
  {
   "cell_type": "code",
   "execution_count": null,
   "metadata": {},
   "outputs": [
    {
     "name": "stderr",
     "output_type": "stream",
     "text": [
      "Training Progress:   0%|          | 0/10 [00:00<?, ?it/s]"
     ]
    },
    {
     "name": "stdout",
     "output_type": "stream",
     "text": [
      "[DEBUG] Epoch 0, first batch shapes: images=torch.Size([64, 3, 32, 32]), labels=torch.Size([64])\n"
     ]
    },
    {
     "name": "stderr",
     "output_type": "stream",
     "text": [
      "Training Progress:   0%|          | 0/10 [02:27<?, ?it/s]"
     ]
    },
    {
     "name": "stdout",
     "output_type": "stream",
     "text": [
      "Epoch 0, loss=0.0601, LR=9.779754323328192e-05\n"
     ]
    },
    {
     "name": "stderr",
     "output_type": "stream",
     "text": [
      "Training Progress:  10%|█         | 1/10 [02:42<24:25, 162.89s/it]"
     ]
    },
    {
     "name": "stdout",
     "output_type": "stream",
     "text": [
      "[INFO] Saved samples to generated_samples_epoch_0.png\n"
     ]
    },
    {
     "name": "stderr",
     "output_type": "stream",
     "text": []
    },
    {
     "name": "stdout",
     "output_type": "stream",
     "text": [
      "[DEBUG] Epoch 1, first batch shapes: images=torch.Size([64, 3, 32, 32]), labels=torch.Size([64])\n"
     ]
    },
    {
     "name": "stderr",
     "output_type": "stream",
     "text": [
      "Training Progress:  10%|█         | 1/10 [05:16<24:25, 162.89s/it]"
     ]
    },
    {
     "name": "stdout",
     "output_type": "stream",
     "text": [
      "Epoch 1, loss=0.0448, LR=9.140576474687264e-05\n"
     ]
    },
    {
     "name": "stderr",
     "output_type": "stream",
     "text": [
      "Training Progress:  20%|██        | 2/10 [05:31<22:11, 166.49s/it]"
     ]
    },
    {
     "name": "stdout",
     "output_type": "stream",
     "text": [
      "[INFO] Saved samples to generated_samples_epoch_1.png\n"
     ]
    },
    {
     "name": "stderr",
     "output_type": "stream",
     "text": []
    },
    {
     "name": "stdout",
     "output_type": "stream",
     "text": [
      "[DEBUG] Epoch 2, first batch shapes: images=torch.Size([64, 3, 32, 32]), labels=torch.Size([64])\n"
     ]
    },
    {
     "name": "stderr",
     "output_type": "stream",
     "text": [
      "Training Progress:  20%|██        | 2/10 [08:05<22:11, 166.49s/it]"
     ]
    },
    {
     "name": "stdout",
     "output_type": "stream",
     "text": [
      "Epoch 2, loss=0.0414, LR=8.14503363531613e-05\n"
     ]
    },
    {
     "name": "stderr",
     "output_type": "stream",
     "text": [
      "Training Progress:  30%|███       | 3/10 [08:22<19:37, 168.14s/it]"
     ]
    },
    {
     "name": "stdout",
     "output_type": "stream",
     "text": [
      "[INFO] Saved samples to generated_samples_epoch_2.png\n"
     ]
    },
    {
     "name": "stderr",
     "output_type": "stream",
     "text": []
    },
    {
     "name": "stdout",
     "output_type": "stream",
     "text": [
      "[DEBUG] Epoch 3, first batch shapes: images=torch.Size([64, 3, 32, 32]), labels=torch.Size([64])\n"
     ]
    },
    {
     "name": "stderr",
     "output_type": "stream",
     "text": [
      "Training Progress:  30%|███       | 3/10 [10:48<19:37, 168.14s/it]"
     ]
    },
    {
     "name": "stdout",
     "output_type": "stream",
     "text": [
      "Epoch 3, loss=0.0424, LR=6.890576474687264e-05\n"
     ]
    },
    {
     "name": "stderr",
     "output_type": "stream",
     "text": [
      "Training Progress:  40%|████      | 4/10 [11:03<16:33, 165.56s/it]"
     ]
    },
    {
     "name": "stdout",
     "output_type": "stream",
     "text": [
      "[INFO] Saved samples to generated_samples_epoch_3.png\n"
     ]
    },
    {
     "name": "stderr",
     "output_type": "stream",
     "text": []
    },
    {
     "name": "stdout",
     "output_type": "stream",
     "text": [
      "[DEBUG] Epoch 4, first batch shapes: images=torch.Size([64, 3, 32, 32]), labels=torch.Size([64])\n"
     ]
    },
    {
     "name": "stderr",
     "output_type": "stream",
     "text": [
      "Training Progress:  40%|████      | 4/10 [13:24<16:33, 165.56s/it]"
     ]
    },
    {
     "name": "stdout",
     "output_type": "stream",
     "text": [
      "Epoch 4, loss=0.0426, LR=5.500000000000001e-05\n"
     ]
    },
    {
     "name": "stderr",
     "output_type": "stream",
     "text": [
      "Training Progress:  50%|█████     | 5/10 [13:40<13:31, 162.36s/it]"
     ]
    },
    {
     "name": "stdout",
     "output_type": "stream",
     "text": [
      "[INFO] Saved samples to generated_samples_epoch_4.png\n"
     ]
    },
    {
     "name": "stderr",
     "output_type": "stream",
     "text": []
    },
    {
     "name": "stdout",
     "output_type": "stream",
     "text": [
      "[DEBUG] Epoch 5, first batch shapes: images=torch.Size([64, 3, 32, 32]), labels=torch.Size([64])\n"
     ]
    },
    {
     "name": "stderr",
     "output_type": "stream",
     "text": [
      "Training Progress:  50%|█████     | 5/10 [16:07<13:31, 162.36s/it]"
     ]
    },
    {
     "name": "stdout",
     "output_type": "stream",
     "text": [
      "Epoch 5, loss=0.0259, LR=4.109423525312737e-05\n"
     ]
    },
    {
     "name": "stderr",
     "output_type": "stream",
     "text": [
      "Training Progress:  60%|██████    | 6/10 [16:23<10:50, 162.58s/it]"
     ]
    },
    {
     "name": "stdout",
     "output_type": "stream",
     "text": [
      "[INFO] Saved samples to generated_samples_epoch_5.png\n"
     ]
    },
    {
     "name": "stderr",
     "output_type": "stream",
     "text": []
    },
    {
     "name": "stdout",
     "output_type": "stream",
     "text": [
      "[DEBUG] Epoch 6, first batch shapes: images=torch.Size([64, 3, 32, 32]), labels=torch.Size([64])\n"
     ]
    },
    {
     "name": "stderr",
     "output_type": "stream",
     "text": [
      "Training Progress:  60%|██████    | 6/10 [18:48<10:50, 162.58s/it]"
     ]
    },
    {
     "name": "stdout",
     "output_type": "stream",
     "text": [
      "Epoch 6, loss=0.0251, LR=2.8549663646838717e-05\n"
     ]
    },
    {
     "name": "stderr",
     "output_type": "stream",
     "text": [
      "Training Progress:  70%|███████   | 7/10 [19:04<08:06, 162.11s/it]"
     ]
    },
    {
     "name": "stdout",
     "output_type": "stream",
     "text": [
      "[INFO] Saved samples to generated_samples_epoch_6.png\n"
     ]
    },
    {
     "name": "stderr",
     "output_type": "stream",
     "text": []
    },
    {
     "name": "stdout",
     "output_type": "stream",
     "text": [
      "[DEBUG] Epoch 7, first batch shapes: images=torch.Size([64, 3, 32, 32]), labels=torch.Size([64])\n"
     ]
    },
    {
     "name": "stderr",
     "output_type": "stream",
     "text": [
      "Training Progress:  70%|███████   | 7/10 [21:29<08:06, 162.11s/it]"
     ]
    },
    {
     "name": "stdout",
     "output_type": "stream",
     "text": [
      "Epoch 7, loss=0.0155, LR=1.8594235253127375e-05\n"
     ]
    },
    {
     "name": "stderr",
     "output_type": "stream",
     "text": [
      "Training Progress:  80%|████████  | 8/10 [21:45<05:23, 161.69s/it]"
     ]
    },
    {
     "name": "stdout",
     "output_type": "stream",
     "text": [
      "[INFO] Saved samples to generated_samples_epoch_7.png\n"
     ]
    },
    {
     "name": "stderr",
     "output_type": "stream",
     "text": []
    },
    {
     "name": "stdout",
     "output_type": "stream",
     "text": [
      "[DEBUG] Epoch 8, first batch shapes: images=torch.Size([64, 3, 32, 32]), labels=torch.Size([64])\n"
     ]
    },
    {
     "name": "stderr",
     "output_type": "stream",
     "text": [
      "Training Progress:  80%|████████  | 8/10 [24:12<05:23, 161.69s/it]"
     ]
    },
    {
     "name": "stdout",
     "output_type": "stream",
     "text": [
      "Epoch 8, loss=0.0204, LR=1.2202456766718093e-05\n"
     ]
    },
    {
     "name": "stderr",
     "output_type": "stream",
     "text": [
      "Training Progress:  90%|█████████ | 9/10 [24:27<02:41, 161.84s/it]"
     ]
    },
    {
     "name": "stdout",
     "output_type": "stream",
     "text": [
      "[INFO] Saved samples to generated_samples_epoch_8.png\n"
     ]
    },
    {
     "name": "stderr",
     "output_type": "stream",
     "text": []
    },
    {
     "name": "stdout",
     "output_type": "stream",
     "text": [
      "[DEBUG] Epoch 9, first batch shapes: images=torch.Size([64, 3, 32, 32]), labels=torch.Size([64])\n"
     ]
    },
    {
     "name": "stderr",
     "output_type": "stream",
     "text": [
      "Training Progress:  90%|█████████ | 9/10 [26:59<02:41, 161.84s/it]"
     ]
    },
    {
     "name": "stdout",
     "output_type": "stream",
     "text": [
      "Epoch 9, loss=0.0089, LR=1e-05\n"
     ]
    },
    {
     "name": "stderr",
     "output_type": "stream",
     "text": [
      "Training Progress: 100%|██████████| 10/10 [27:14<00:00, 163.48s/it]"
     ]
    },
    {
     "name": "stdout",
     "output_type": "stream",
     "text": [
      "[INFO] Saved samples to generated_samples_epoch_9.png\n"
     ]
    },
    {
     "name": "stderr",
     "output_type": "stream",
     "text": [
      "\n"
     ]
    }
   ],
   "source": [
    "torch.save({\n",
    "    'model_state': model.state_dict(),\n",
    "    'model_ema_state': model_ema.state_dict(),\n",
    "    'optimizer_state': optimizer.state_dict(),\n",
    "    'epoch': epoch\n",
    "}, \"diffusion_model_checkpoint.pth\")\n",
    "\n",
    "print(\"Training complete, model and EMA weights saved.\")"
   ]
  }
 ],
 "metadata": {
  "kernelspec": {
   "display_name": "Python 3",
   "language": "python",
   "name": "python3"
  },
  "language_info": {
   "codemirror_mode": {
    "name": "ipython",
    "version": 3
   },
   "file_extension": ".py",
   "mimetype": "text/x-python",
   "name": "python",
   "nbconvert_exporter": "python",
   "pygments_lexer": "ipython3",
   "version": "3.10.0"
  }
 },
 "nbformat": 4,
 "nbformat_minor": 4
}
