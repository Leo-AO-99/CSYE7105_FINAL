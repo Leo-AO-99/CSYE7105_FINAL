{
 "cells": [
  {
   "cell_type": "code",
   "execution_count": 8,
   "metadata": {},
   "outputs": [],
   "source": [
    "import torch\n",
    "from tqdm import tqdm\n",
    "import sys\n",
    "import torch.optim as optim\n",
    "from ddpm.config import cifar10_config\n",
    "from ddpm.data import get_cifar10_dataloaders\n",
    "from ddpm.diffusion_model import DiffusionModel"
   ]
  },
  {
   "cell_type": "code",
   "execution_count": 9,
   "metadata": {},
   "outputs": [],
   "source": [
    "from ddpm import config as _config\n",
    "_config.DEBUG = False"
   ]
  },
  {
   "cell_type": "code",
   "execution_count": 3,
   "metadata": {},
   "outputs": [
    {
     "data": {
      "text/plain": [
       "device(type='cpu')"
      ]
     },
     "execution_count": 3,
     "metadata": {},
     "output_type": "execute_result"
    }
   ],
   "source": [
    "device = torch.device(\"cuda\" if torch.cuda.is_available() else \"cpu\")\n",
    "device"
   ]
  },
  {
   "cell_type": "code",
   "execution_count": 4,
   "metadata": {},
   "outputs": [],
   "source": [
    "train_loader, test_loader = get_cifar10_dataloaders(\n",
    "    batch_size=cifar10_config.batch_size, \n",
    ")"
   ]
  },
  {
   "cell_type": "code",
   "execution_count": 10,
   "metadata": {},
   "outputs": [],
   "source": [
    "model = DiffusionModel(cifar10_config).to(device)"
   ]
  },
  {
   "cell_type": "code",
   "execution_count": 6,
   "metadata": {},
   "outputs": [],
   "source": [
    "optimizer = optim.Adam(model.parameters(), lr=1e-4)"
   ]
  },
  {
   "cell_type": "code",
   "execution_count": 7,
   "metadata": {},
   "outputs": [
    {
     "name": "stderr",
     "output_type": "stream",
     "text": [
      "Training Progress:   0%|          | 0/10 [00:00<?, ?it/s]"
     ]
    },
    {
     "name": "stdout",
     "output_type": "stream",
     "text": [
      "ResNet(), x.shape: torch.Size([64, 3, 32, 32])\n",
      "ResNet(), after initial_pad, x.shape: torch.Size([64, 3, 36, 36])\n",
      "ResNet(), after init_conv: torch.Size([64, 128, 36, 36])\n",
      "ResBlock: torch.Size([64, 128, 36, 36]) -> torch.Size([64, 128, 36, 36])\n",
      "ResNet(), down_layers-0 <class 'ddpm.res_net.ResBlock'>, torch.Size([64, 128, 36, 36]) -> torch.Size([64, 128, 36, 36])\n",
      "ResBlock: torch.Size([64, 128, 36, 36]) -> torch.Size([64, 128, 36, 36])\n",
      "ResNet(), down_layers-1 <class 'ddpm.res_net.ResBlock'>, torch.Size([64, 128, 36, 36]) -> torch.Size([64, 128, 36, 36])\n",
      "DownSample: torch.Size([64, 128, 36, 36]) -> torch.Size([64, 128, 18, 18])\n",
      "ResNet(), down_layers-2 <class 'ddpm.res_net.DownSample'>, torch.Size([64, 128, 36, 36]) -> torch.Size([64, 128, 18, 18])\n",
      "ResBlock: torch.Size([64, 128, 18, 18]) -> torch.Size([64, 256, 18, 18])\n",
      "ResNet(), down_layers-3 <class 'ddpm.res_net.ResBlock'>, torch.Size([64, 128, 18, 18]) -> torch.Size([64, 256, 18, 18])\n",
      "ResBlock: torch.Size([64, 256, 18, 18]) -> torch.Size([64, 256, 18, 18])\n",
      "ResNet(), down_layers-4 <class 'ddpm.res_net.ResBlock'>, torch.Size([64, 256, 18, 18]) -> torch.Size([64, 256, 18, 18])\n",
      "DownSample: torch.Size([64, 256, 18, 18]) -> torch.Size([64, 256, 9, 9])\n",
      "ResNet(), down_layers-5 <class 'ddpm.res_net.DownSample'>, torch.Size([64, 256, 18, 18]) -> torch.Size([64, 256, 9, 9])\n",
      "SelfAttention, x.shape: torch.Size([64, 512, 9, 9])\n",
      "SelfAttention, q.shape: torch.Size([64, 81, 512]), k.shape: torch.Size([64, 512, 81]), v.shape: torch.Size([64, 81, 512])\n",
      "SelfAttention, out.shape: torch.Size([64, 512, 9, 9])\n",
      "ResBlock: torch.Size([64, 256, 9, 9]) -> torch.Size([64, 512, 9, 9])\n",
      "ResNet(), down_layers-6 <class 'ddpm.res_net.ResBlock'>, torch.Size([64, 256, 9, 9]) -> torch.Size([64, 512, 9, 9])\n",
      "SelfAttention, x.shape: torch.Size([64, 512, 9, 9])\n",
      "SelfAttention, q.shape: torch.Size([64, 81, 512]), k.shape: torch.Size([64, 512, 81]), v.shape: torch.Size([64, 81, 512])\n",
      "SelfAttention, out.shape: torch.Size([64, 512, 9, 9])\n",
      "ResBlock: torch.Size([64, 512, 9, 9]) -> torch.Size([64, 512, 9, 9])\n",
      "ResNet(), down_layers-7 <class 'ddpm.res_net.ResBlock'>, torch.Size([64, 512, 9, 9]) -> torch.Size([64, 512, 9, 9])\n",
      "SelfAttention, x.shape: torch.Size([64, 512, 9, 9])\n",
      "SelfAttention, q.shape: torch.Size([64, 81, 512]), k.shape: torch.Size([64, 512, 81]), v.shape: torch.Size([64, 81, 512])\n",
      "SelfAttention, out.shape: torch.Size([64, 512, 9, 9])\n",
      "ResBlock: torch.Size([64, 512, 9, 9]) -> torch.Size([64, 512, 9, 9])\n",
      "ResNet(), mid_layers-0 <class 'ddpm.res_net.ResBlock'>, torch.Size([64, 512, 9, 9]) -> torch.Size([64, 512, 9, 9])\n",
      "ResBlock: torch.Size([64, 512, 9, 9]) -> torch.Size([64, 512, 9, 9])\n",
      "ResNet(), mid_layers-1 <class 'ddpm.res_net.ResBlock'>, torch.Size([64, 512, 9, 9]) -> torch.Size([64, 512, 9, 9])\n",
      "SelfAttention, x.shape: torch.Size([64, 512, 9, 9])\n",
      "SelfAttention, q.shape: torch.Size([64, 81, 512]), k.shape: torch.Size([64, 512, 81]), v.shape: torch.Size([64, 81, 512])\n",
      "SelfAttention, out.shape: torch.Size([64, 512, 9, 9])\n",
      "ResBlock: torch.Size([64, 1024, 9, 9]) -> torch.Size([64, 512, 9, 9])\n",
      "ResNet(), up_layers-0 <class 'ddpm.res_net.ResBlock'>, torch.Size([64, 1024, 9, 9]) -> torch.Size([64, 512, 9, 9])\n",
      "SelfAttention, x.shape: torch.Size([64, 512, 9, 9])\n",
      "SelfAttention, q.shape: torch.Size([64, 81, 512]), k.shape: torch.Size([64, 512, 81]), v.shape: torch.Size([64, 81, 512])\n",
      "SelfAttention, out.shape: torch.Size([64, 512, 9, 9])\n",
      "ResBlock: torch.Size([64, 1024, 9, 9]) -> torch.Size([64, 512, 9, 9])\n",
      "ResNet(), up_layers-1 <class 'ddpm.res_net.ResBlock'>, torch.Size([64, 1024, 9, 9]) -> torch.Size([64, 512, 9, 9])\n",
      "SelfAttention, x.shape: torch.Size([64, 512, 9, 9])\n",
      "SelfAttention, q.shape: torch.Size([64, 81, 512]), k.shape: torch.Size([64, 512, 81]), v.shape: torch.Size([64, 81, 512])\n",
      "SelfAttention, out.shape: torch.Size([64, 512, 9, 9])\n",
      "ResBlock: torch.Size([64, 768, 9, 9]) -> torch.Size([64, 512, 9, 9])\n",
      "ResNet(), up_layers-2 <class 'ddpm.res_net.ResBlock'>, torch.Size([64, 768, 9, 9]) -> torch.Size([64, 512, 9, 9])\n",
      "Upsample: torch.Size([64, 512, 9, 9]) -> torch.Size([64, 512, 18, 18])\n",
      "ResNet(), up_layers-3 <class 'ddpm.res_net.Upsample'>, torch.Size([64, 512, 9, 9]) -> torch.Size([64, 512, 18, 18])\n",
      "ResBlock: torch.Size([64, 768, 18, 18]) -> torch.Size([64, 256, 18, 18])\n",
      "ResNet(), up_layers-4 <class 'ddpm.res_net.ResBlock'>, torch.Size([64, 768, 18, 18]) -> torch.Size([64, 256, 18, 18])\n",
      "ResBlock: torch.Size([64, 512, 18, 18]) -> torch.Size([64, 256, 18, 18])\n",
      "ResNet(), up_layers-5 <class 'ddpm.res_net.ResBlock'>, torch.Size([64, 512, 18, 18]) -> torch.Size([64, 256, 18, 18])\n",
      "ResBlock: torch.Size([64, 384, 18, 18]) -> torch.Size([64, 256, 18, 18])\n",
      "ResNet(), up_layers-6 <class 'ddpm.res_net.ResBlock'>, torch.Size([64, 384, 18, 18]) -> torch.Size([64, 256, 18, 18])\n",
      "Upsample: torch.Size([64, 256, 18, 18]) -> torch.Size([64, 256, 36, 36])\n",
      "ResNet(), up_layers-7 <class 'ddpm.res_net.Upsample'>, torch.Size([64, 256, 18, 18]) -> torch.Size([64, 256, 36, 36])\n",
      "ResBlock: torch.Size([64, 384, 36, 36]) -> torch.Size([64, 128, 36, 36])\n",
      "ResNet(), up_layers-8 <class 'ddpm.res_net.ResBlock'>, torch.Size([64, 384, 36, 36]) -> torch.Size([64, 128, 36, 36])\n",
      "ResBlock: torch.Size([64, 256, 36, 36]) -> torch.Size([64, 128, 36, 36])\n",
      "ResNet(), up_layers-9 <class 'ddpm.res_net.ResBlock'>, torch.Size([64, 256, 36, 36]) -> torch.Size([64, 128, 36, 36])\n",
      "ResBlock: torch.Size([64, 256, 36, 36]) -> torch.Size([64, 128, 36, 36])\n",
      "ResNet(), up_layers-10 <class 'ddpm.res_net.ResBlock'>, torch.Size([64, 256, 36, 36]) -> torch.Size([64, 128, 36, 36])\n",
      "ResNet(), before depad, x.shape: torch.Size([64, 3, 36, 36])\n",
      "ResNet(), after final conv: torch.Size([64, 3, 32, 32])\n"
     ]
    },
    {
     "name": "stderr",
     "output_type": "stream",
     "text": [
      "Training Progress:   0%|          | 0/10 [00:32<?, ?it/s]\n"
     ]
    },
    {
     "ename": "KeyboardInterrupt",
     "evalue": "",
     "output_type": "error",
     "traceback": [
      "\u001b[0;31m---------------------------------------------------------------------------\u001b[0m",
      "\u001b[0;31mKeyboardInterrupt\u001b[0m                         Traceback (most recent call last)",
      "Cell \u001b[0;32mIn[7], line 16\u001b[0m\n\u001b[1;32m     13\u001b[0m     \u001b[38;5;28;01mcontinue\u001b[39;00m\n\u001b[1;32m     15\u001b[0m optimizer\u001b[38;5;241m.\u001b[39mzero_grad()\n\u001b[0;32m---> 16\u001b[0m \u001b[43mloss\u001b[49m\u001b[38;5;241;43m.\u001b[39;49m\u001b[43mbackward\u001b[49m\u001b[43m(\u001b[49m\u001b[43m)\u001b[49m\n\u001b[1;32m     17\u001b[0m optimizer\u001b[38;5;241m.\u001b[39mstep()\n\u001b[1;32m     19\u001b[0m batch_progress\u001b[38;5;241m.\u001b[39mset_postfix(loss\u001b[38;5;241m=\u001b[39mloss\u001b[38;5;241m.\u001b[39mitem())  \u001b[38;5;66;03m# Updates loss dynamically\u001b[39;00m\n",
      "File \u001b[0;32m~/miniconda3/envs/avocado/lib/python3.10/site-packages/torch/_tensor.py:626\u001b[0m, in \u001b[0;36mTensor.backward\u001b[0;34m(self, gradient, retain_graph, create_graph, inputs)\u001b[0m\n\u001b[1;32m    616\u001b[0m \u001b[38;5;28;01mif\u001b[39;00m has_torch_function_unary(\u001b[38;5;28mself\u001b[39m):\n\u001b[1;32m    617\u001b[0m     \u001b[38;5;28;01mreturn\u001b[39;00m handle_torch_function(\n\u001b[1;32m    618\u001b[0m         Tensor\u001b[38;5;241m.\u001b[39mbackward,\n\u001b[1;32m    619\u001b[0m         (\u001b[38;5;28mself\u001b[39m,),\n\u001b[0;32m   (...)\u001b[0m\n\u001b[1;32m    624\u001b[0m         inputs\u001b[38;5;241m=\u001b[39minputs,\n\u001b[1;32m    625\u001b[0m     )\n\u001b[0;32m--> 626\u001b[0m \u001b[43mtorch\u001b[49m\u001b[38;5;241;43m.\u001b[39;49m\u001b[43mautograd\u001b[49m\u001b[38;5;241;43m.\u001b[39;49m\u001b[43mbackward\u001b[49m\u001b[43m(\u001b[49m\n\u001b[1;32m    627\u001b[0m \u001b[43m    \u001b[49m\u001b[38;5;28;43mself\u001b[39;49m\u001b[43m,\u001b[49m\u001b[43m \u001b[49m\u001b[43mgradient\u001b[49m\u001b[43m,\u001b[49m\u001b[43m \u001b[49m\u001b[43mretain_graph\u001b[49m\u001b[43m,\u001b[49m\u001b[43m \u001b[49m\u001b[43mcreate_graph\u001b[49m\u001b[43m,\u001b[49m\u001b[43m \u001b[49m\u001b[43minputs\u001b[49m\u001b[38;5;241;43m=\u001b[39;49m\u001b[43minputs\u001b[49m\n\u001b[1;32m    628\u001b[0m \u001b[43m\u001b[49m\u001b[43m)\u001b[49m\n",
      "File \u001b[0;32m~/miniconda3/envs/avocado/lib/python3.10/site-packages/torch/autograd/__init__.py:347\u001b[0m, in \u001b[0;36mbackward\u001b[0;34m(tensors, grad_tensors, retain_graph, create_graph, grad_variables, inputs)\u001b[0m\n\u001b[1;32m    342\u001b[0m     retain_graph \u001b[38;5;241m=\u001b[39m create_graph\n\u001b[1;32m    344\u001b[0m \u001b[38;5;66;03m# The reason we repeat the same comment below is that\u001b[39;00m\n\u001b[1;32m    345\u001b[0m \u001b[38;5;66;03m# some Python versions print out the first line of a multi-line function\u001b[39;00m\n\u001b[1;32m    346\u001b[0m \u001b[38;5;66;03m# calls in the traceback and some print out the last line\u001b[39;00m\n\u001b[0;32m--> 347\u001b[0m \u001b[43m_engine_run_backward\u001b[49m\u001b[43m(\u001b[49m\n\u001b[1;32m    348\u001b[0m \u001b[43m    \u001b[49m\u001b[43mtensors\u001b[49m\u001b[43m,\u001b[49m\n\u001b[1;32m    349\u001b[0m \u001b[43m    \u001b[49m\u001b[43mgrad_tensors_\u001b[49m\u001b[43m,\u001b[49m\n\u001b[1;32m    350\u001b[0m \u001b[43m    \u001b[49m\u001b[43mretain_graph\u001b[49m\u001b[43m,\u001b[49m\n\u001b[1;32m    351\u001b[0m \u001b[43m    \u001b[49m\u001b[43mcreate_graph\u001b[49m\u001b[43m,\u001b[49m\n\u001b[1;32m    352\u001b[0m \u001b[43m    \u001b[49m\u001b[43minputs\u001b[49m\u001b[43m,\u001b[49m\n\u001b[1;32m    353\u001b[0m \u001b[43m    \u001b[49m\u001b[43mallow_unreachable\u001b[49m\u001b[38;5;241;43m=\u001b[39;49m\u001b[38;5;28;43;01mTrue\u001b[39;49;00m\u001b[43m,\u001b[49m\n\u001b[1;32m    354\u001b[0m \u001b[43m    \u001b[49m\u001b[43maccumulate_grad\u001b[49m\u001b[38;5;241;43m=\u001b[39;49m\u001b[38;5;28;43;01mTrue\u001b[39;49;00m\u001b[43m,\u001b[49m\n\u001b[1;32m    355\u001b[0m \u001b[43m\u001b[49m\u001b[43m)\u001b[49m\n",
      "File \u001b[0;32m~/miniconda3/envs/avocado/lib/python3.10/site-packages/torch/autograd/graph.py:823\u001b[0m, in \u001b[0;36m_engine_run_backward\u001b[0;34m(t_outputs, *args, **kwargs)\u001b[0m\n\u001b[1;32m    821\u001b[0m     unregister_hooks \u001b[38;5;241m=\u001b[39m _register_logging_hooks_on_whole_graph(t_outputs)\n\u001b[1;32m    822\u001b[0m \u001b[38;5;28;01mtry\u001b[39;00m:\n\u001b[0;32m--> 823\u001b[0m     \u001b[38;5;28;01mreturn\u001b[39;00m \u001b[43mVariable\u001b[49m\u001b[38;5;241;43m.\u001b[39;49m\u001b[43m_execution_engine\u001b[49m\u001b[38;5;241;43m.\u001b[39;49m\u001b[43mrun_backward\u001b[49m\u001b[43m(\u001b[49m\u001b[43m  \u001b[49m\u001b[38;5;66;43;03m# Calls into the C++ engine to run the backward pass\u001b[39;49;00m\n\u001b[1;32m    824\u001b[0m \u001b[43m        \u001b[49m\u001b[43mt_outputs\u001b[49m\u001b[43m,\u001b[49m\u001b[43m \u001b[49m\u001b[38;5;241;43m*\u001b[39;49m\u001b[43margs\u001b[49m\u001b[43m,\u001b[49m\u001b[43m \u001b[49m\u001b[38;5;241;43m*\u001b[39;49m\u001b[38;5;241;43m*\u001b[39;49m\u001b[43mkwargs\u001b[49m\n\u001b[1;32m    825\u001b[0m \u001b[43m    \u001b[49m\u001b[43m)\u001b[49m  \u001b[38;5;66;03m# Calls into the C++ engine to run the backward pass\u001b[39;00m\n\u001b[1;32m    826\u001b[0m \u001b[38;5;28;01mfinally\u001b[39;00m:\n\u001b[1;32m    827\u001b[0m     \u001b[38;5;28;01mif\u001b[39;00m attach_logging_hooks:\n",
      "\u001b[0;31mKeyboardInterrupt\u001b[0m: "
     ]
    }
   ],
   "source": [
    "for epoch in tqdm(range(10), desc=\"Training Progress\", leave=True):\n",
    "    model.train()\n",
    "    batch_progress = tqdm(train_loader, desc=f\"Epoch {epoch}\", leave=False)\n",
    "\n",
    "    for images, labels in batch_progress:\n",
    "        images = images.to(device)\n",
    "        \n",
    "        # Suppress verbose output\n",
    "        try:\n",
    "            loss = model(images, labels)  \n",
    "        except Exception as e:\n",
    "            print(f\"Error during model forward pass: {e}\")\n",
    "            continue\n",
    "        \n",
    "        optimizer.zero_grad()\n",
    "        loss.backward()\n",
    "        optimizer.step()\n",
    "\n",
    "        batch_progress.set_postfix(loss=loss.item())  # Updates loss dynamically\n",
    "        sys.stdout.flush()  # Forces tqdm to refresh\n",
    "    \n",
    "    tqdm.write(f\"Epoch {epoch}, loss={loss.item():.4f}\")\n",
    "\n",
    "    # Periodically sample\n",
    "    model.eval()\n",
    "    samples = model.sample((16, 3, 32, 32), device=device)"
   ]
  },
  {
   "cell_type": "code",
   "execution_count": null,
   "metadata": {},
   "outputs": [],
   "source": []
  }
 ],
 "metadata": {
  "kernelspec": {
   "display_name": "Python 3 (ipykernel)",
   "language": "python",
   "name": "python3"
  },
  "language_info": {
   "codemirror_mode": {
    "name": "ipython",
    "version": 3
   },
   "file_extension": ".py",
   "mimetype": "text/x-python",
   "name": "python",
   "nbconvert_exporter": "python",
   "pygments_lexer": "ipython3",
   "version": "3.10.15"
  }
 },
 "nbformat": 4,
 "nbformat_minor": 4
}
